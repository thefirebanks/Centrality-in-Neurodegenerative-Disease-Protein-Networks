{
 "cells": [
  {
   "cell_type": "markdown",
   "metadata": {},
   "source": [
    "### Metadata\n",
    "\n",
    "**Main Paper:** https://www.ncbi.nlm.nih.gov/pmc/articles/PMC3914352/\n",
    "\n",
    "**Possible extra measure to apply:** https://arxiv.org/pdf/1904.05060.pdf\n",
    "\n",
    "**Data**\n",
    "- Interologous Interaction Database (i2d) --> For protein interactions\n",
    "    - http://ophid.utoronto.ca/ophidv2.204/\n",
    "\n",
    "**Neurodegenerative diseases**    \n",
    "- Huntington's disease (HD)\n",
    "- Prion (P)\n",
    "- Frontotemporal dementia (FTD)\n",
    "- Alzheimer's disease (AD)\n",
    "- Friedreich's ataxia (FA)\n",
    "- Lewy body disease (LBD)\n",
    "- Parkinson's disease (PD)\n",
    "- Amyotrophic lateral sclerosis (ALS)\n",
    "- Spinal muscular atrophy (SMA)\n",
    "- Extra: Glioblastoma multiforme (GBM)\n",
    "\n",
    "**Steps**\n",
    "- From the list of disease proteins in the Excel file, get the first-degree neighbors of each protein and store them. (Use the i2d dataset for this) || **CHECK**\n",
    "- Build the network from the list of disease proteins and their neighbors **CHECK**\n",
    "- Calculate centrality measures for every node, retrieve the ones from the disease proteins **CHECK**\n",
    "- Attempt new centrality measure calculation. \n",
    "- Explore relationship of disease proteins to the global central nodes in the network\n",
    "    \n",
    "**Relevant stuff**\n",
    "- Type of interaction network: undirected and weighted\n",
    "- Only first degree neighbors taken in acccount"
   ]
  },
  {
   "cell_type": "code",
   "execution_count": 1,
   "metadata": {},
   "outputs": [],
   "source": [
    "import networkx as nx\n",
    "import random\n",
    "import matplotlib.pyplot as plt\n",
    "import pandas as pd"
   ]
  },
  {
   "cell_type": "markdown",
   "metadata": {},
   "source": [
    "### Analysis of the proteins that interact with each other"
   ]
  },
  {
   "cell_type": "code",
   "execution_count": 2,
   "metadata": {},
   "outputs": [],
   "source": [
    "disease_proteins = pd.read_excel(\"/Users/dafirebanks/Documents/Spring_2019/ComplexNets/Networks_FinalProject/Supplementary_materials_paper/Suppl1_DiseaseProteins_Diseases.xlsx\",sheet_name=\"Sheet2\")"
   ]
  },
  {
   "cell_type": "code",
   "execution_count": 3,
   "metadata": {},
   "outputs": [],
   "source": [
    "all_proteins = pd.read_csv(\"/Users/dafirebanks/Downloads/i2d.2_9.Public.HUMAN.tab 2\", sep='\\t')"
   ]
  },
  {
   "cell_type": "code",
   "execution_count": 4,
   "metadata": {},
   "outputs": [
    {
     "data": {
      "text/html": [
       "<div>\n",
       "<style scoped>\n",
       "    .dataframe tbody tr th:only-of-type {\n",
       "        vertical-align: middle;\n",
       "    }\n",
       "\n",
       "    .dataframe tbody tr th {\n",
       "        vertical-align: top;\n",
       "    }\n",
       "\n",
       "    .dataframe thead th {\n",
       "        text-align: right;\n",
       "    }\n",
       "</style>\n",
       "<table border=\"1\" class=\"dataframe\">\n",
       "  <thead>\n",
       "    <tr style=\"text-align: right;\">\n",
       "      <th></th>\n",
       "      <th>Dataset</th>\n",
       "      <th>SwissProt1</th>\n",
       "      <th>SwissProt2</th>\n",
       "    </tr>\n",
       "  </thead>\n",
       "  <tbody>\n",
       "    <tr>\n",
       "      <th>0</th>\n",
       "      <td>SOURAV_MAPK_LOW</td>\n",
       "      <td>P63000</td>\n",
       "      <td>A0AUZ9</td>\n",
       "    </tr>\n",
       "    <tr>\n",
       "      <th>1</th>\n",
       "      <td>IntAct</td>\n",
       "      <td>Q96CV9</td>\n",
       "      <td>A0AUZ9</td>\n",
       "    </tr>\n",
       "    <tr>\n",
       "      <th>2</th>\n",
       "      <td>BioGrid</td>\n",
       "      <td>P0CG48</td>\n",
       "      <td>A0AV96</td>\n",
       "    </tr>\n",
       "    <tr>\n",
       "      <th>3</th>\n",
       "      <td>IntAct_Mouse</td>\n",
       "      <td>P62258</td>\n",
       "      <td>A0AV96</td>\n",
       "    </tr>\n",
       "    <tr>\n",
       "      <th>4</th>\n",
       "      <td>IntAct_Mouse</td>\n",
       "      <td>P63104</td>\n",
       "      <td>A0AV96</td>\n",
       "    </tr>\n",
       "    <tr>\n",
       "      <th>5</th>\n",
       "      <td>BioGrid</td>\n",
       "      <td>Q15717</td>\n",
       "      <td>A0AV96</td>\n",
       "    </tr>\n",
       "    <tr>\n",
       "      <th>6</th>\n",
       "      <td>IntAct</td>\n",
       "      <td>Q92731</td>\n",
       "      <td>A0AV96</td>\n",
       "    </tr>\n",
       "    <tr>\n",
       "      <th>7</th>\n",
       "      <td>BioGrid</td>\n",
       "      <td>Q99496</td>\n",
       "      <td>A0AV96</td>\n",
       "    </tr>\n",
       "    <tr>\n",
       "      <th>8</th>\n",
       "      <td>INNATEDB</td>\n",
       "      <td>Q99496</td>\n",
       "      <td>A0AV96</td>\n",
       "    </tr>\n",
       "    <tr>\n",
       "      <th>9</th>\n",
       "      <td>IntAct_Mouse</td>\n",
       "      <td>Q9H2F3</td>\n",
       "      <td>A0AV96</td>\n",
       "    </tr>\n",
       "  </tbody>\n",
       "</table>\n",
       "</div>"
      ],
      "text/plain": [
       "           Dataset SwissProt1 SwissProt2\n",
       "0  SOURAV_MAPK_LOW     P63000     A0AUZ9\n",
       "1           IntAct     Q96CV9     A0AUZ9\n",
       "2          BioGrid     P0CG48     A0AV96\n",
       "3     IntAct_Mouse     P62258     A0AV96\n",
       "4     IntAct_Mouse     P63104     A0AV96\n",
       "5          BioGrid     Q15717     A0AV96\n",
       "6           IntAct     Q92731     A0AV96\n",
       "7          BioGrid     Q99496     A0AV96\n",
       "8         INNATEDB     Q99496     A0AV96\n",
       "9     IntAct_Mouse     Q9H2F3     A0AV96"
      ]
     },
     "execution_count": 4,
     "metadata": {},
     "output_type": "execute_result"
    }
   ],
   "source": [
    "# All proteins database\n",
    "all_proteins.head(10)"
   ]
  },
  {
   "cell_type": "code",
   "execution_count": 5,
   "metadata": {},
   "outputs": [
    {
     "data": {
      "text/html": [
       "<div>\n",
       "<style scoped>\n",
       "    .dataframe tbody tr th:only-of-type {\n",
       "        vertical-align: middle;\n",
       "    }\n",
       "\n",
       "    .dataframe tbody tr th {\n",
       "        vertical-align: top;\n",
       "    }\n",
       "\n",
       "    .dataframe thead th {\n",
       "        text-align: right;\n",
       "    }\n",
       "</style>\n",
       "<table border=\"1\" class=\"dataframe\">\n",
       "  <thead>\n",
       "    <tr style=\"text-align: right;\">\n",
       "      <th></th>\n",
       "      <th>Disease Protein</th>\n",
       "      <th>Disease</th>\n",
       "      <th>Note</th>\n",
       "    </tr>\n",
       "  </thead>\n",
       "  <tbody>\n",
       "    <tr>\n",
       "      <th>0</th>\n",
       "      <td>P04156</td>\n",
       "      <td>HD</td>\n",
       "      <td>NaN</td>\n",
       "    </tr>\n",
       "    <tr>\n",
       "      <th>1</th>\n",
       "      <td>P20226</td>\n",
       "      <td>HD</td>\n",
       "      <td>NaN</td>\n",
       "    </tr>\n",
       "    <tr>\n",
       "      <th>2</th>\n",
       "      <td>Q8WXH2</td>\n",
       "      <td>HD</td>\n",
       "      <td>NaN</td>\n",
       "    </tr>\n",
       "    <tr>\n",
       "      <th>3</th>\n",
       "      <td>P42858</td>\n",
       "      <td>HD</td>\n",
       "      <td>NaN</td>\n",
       "    </tr>\n",
       "    <tr>\n",
       "      <th>4</th>\n",
       "      <td>P04156</td>\n",
       "      <td>P</td>\n",
       "      <td>NaN</td>\n",
       "    </tr>\n",
       "    <tr>\n",
       "      <th>5</th>\n",
       "      <td>Q13148</td>\n",
       "      <td>FTD</td>\n",
       "      <td>NaN</td>\n",
       "    </tr>\n",
       "    <tr>\n",
       "      <th>6</th>\n",
       "      <td>P28799</td>\n",
       "      <td>FTD</td>\n",
       "      <td>NaN</td>\n",
       "    </tr>\n",
       "    <tr>\n",
       "      <th>7</th>\n",
       "      <td>P49768</td>\n",
       "      <td>FTD</td>\n",
       "      <td>NaN</td>\n",
       "    </tr>\n",
       "    <tr>\n",
       "      <th>8</th>\n",
       "      <td>P10636</td>\n",
       "      <td>FTD</td>\n",
       "      <td>NaN</td>\n",
       "    </tr>\n",
       "    <tr>\n",
       "      <th>9</th>\n",
       "      <td>P37840</td>\n",
       "      <td>FTD</td>\n",
       "      <td>NaN</td>\n",
       "    </tr>\n",
       "  </tbody>\n",
       "</table>\n",
       "</div>"
      ],
      "text/plain": [
       "  Disease Protein Disease Note\n",
       "0          P04156      HD  NaN\n",
       "1          P20226      HD  NaN\n",
       "2          Q8WXH2      HD  NaN\n",
       "3          P42858      HD  NaN\n",
       "4          P04156       P  NaN\n",
       "5          Q13148     FTD  NaN\n",
       "6          P28799     FTD  NaN\n",
       "7          P49768     FTD  NaN\n",
       "8          P10636     FTD  NaN\n",
       "9          P37840     FTD  NaN"
      ]
     },
     "execution_count": 5,
     "metadata": {},
     "output_type": "execute_result"
    }
   ],
   "source": [
    "# Disease proteins sample\n",
    "disease_proteins.head(10)"
   ]
  },
  {
   "cell_type": "code",
   "execution_count": 6,
   "metadata": {},
   "outputs": [],
   "source": [
    "# Remove unnecessary column\n",
    "all_proteins = all_proteins.drop(columns=[\"Dataset\"])"
   ]
  },
  {
   "cell_type": "code",
   "execution_count": 7,
   "metadata": {},
   "outputs": [],
   "source": [
    "# Get a reference list of proteins to use for filtering\n",
    "d_prots = list(disease_proteins[\"Disease Protein\"])"
   ]
  },
  {
   "cell_type": "code",
   "execution_count": 8,
   "metadata": {},
   "outputs": [],
   "source": [
    "# Select only the rows that contain proteins in the d_prots list\n",
    "filtered_proteins = all_proteins[all_proteins[\"SwissProt1\"].isin(d_prots)]\n",
    "filtered_proteins1 = all_proteins[all_proteins[\"SwissProt2\"].isin(d_prots)]"
   ]
  },
  {
   "cell_type": "code",
   "execution_count": 9,
   "metadata": {},
   "outputs": [],
   "source": [
    "# Combine the dataframes \n",
    "df = pd.concat([filtered_proteins, filtered_proteins1])"
   ]
  },
  {
   "cell_type": "code",
   "execution_count": 10,
   "metadata": {},
   "outputs": [
    {
     "data": {
      "text/html": [
       "<div>\n",
       "<style scoped>\n",
       "    .dataframe tbody tr th:only-of-type {\n",
       "        vertical-align: middle;\n",
       "    }\n",
       "\n",
       "    .dataframe tbody tr th {\n",
       "        vertical-align: top;\n",
       "    }\n",
       "\n",
       "    .dataframe thead th {\n",
       "        text-align: right;\n",
       "    }\n",
       "</style>\n",
       "<table border=\"1\" class=\"dataframe\">\n",
       "  <thead>\n",
       "    <tr style=\"text-align: right;\">\n",
       "      <th></th>\n",
       "      <th>SwissProt1</th>\n",
       "      <th>SwissProt2</th>\n",
       "    </tr>\n",
       "  </thead>\n",
       "  <tbody>\n",
       "    <tr>\n",
       "      <th>89</th>\n",
       "      <td>Q5S007</td>\n",
       "      <td>A0JLT9</td>\n",
       "    </tr>\n",
       "    <tr>\n",
       "      <th>418</th>\n",
       "      <td>Q9UGJ0</td>\n",
       "      <td>A4D0S4</td>\n",
       "    </tr>\n",
       "    <tr>\n",
       "      <th>524</th>\n",
       "      <td>Q5S007</td>\n",
       "      <td>A4UGR9</td>\n",
       "    </tr>\n",
       "    <tr>\n",
       "      <th>848</th>\n",
       "      <td>P35637</td>\n",
       "      <td>A6NIV6</td>\n",
       "    </tr>\n",
       "    <tr>\n",
       "      <th>1046</th>\n",
       "      <td>P04626</td>\n",
       "      <td>A8K1F4</td>\n",
       "    </tr>\n",
       "    <tr>\n",
       "      <th>1165</th>\n",
       "      <td>Q9UGJ0</td>\n",
       "      <td>A8K9T9</td>\n",
       "    </tr>\n",
       "    <tr>\n",
       "      <th>1246</th>\n",
       "      <td>P37231</td>\n",
       "      <td>A9UHW6</td>\n",
       "    </tr>\n",
       "    <tr>\n",
       "      <th>1426</th>\n",
       "      <td>P22314</td>\n",
       "      <td>B4DEE8</td>\n",
       "    </tr>\n",
       "    <tr>\n",
       "      <th>1457</th>\n",
       "      <td>P09936</td>\n",
       "      <td>B4DRS2</td>\n",
       "    </tr>\n",
       "    <tr>\n",
       "      <th>1520</th>\n",
       "      <td>Q99497</td>\n",
       "      <td>B4E1C1</td>\n",
       "    </tr>\n",
       "  </tbody>\n",
       "</table>\n",
       "</div>"
      ],
      "text/plain": [
       "     SwissProt1 SwissProt2\n",
       "89       Q5S007     A0JLT9\n",
       "418      Q9UGJ0     A4D0S4\n",
       "524      Q5S007     A4UGR9\n",
       "848      P35637     A6NIV6\n",
       "1046     P04626     A8K1F4\n",
       "1165     Q9UGJ0     A8K9T9\n",
       "1246     P37231     A9UHW6\n",
       "1426     P22314     B4DEE8\n",
       "1457     P09936     B4DRS2\n",
       "1520     Q99497     B4E1C1"
      ]
     },
     "execution_count": 10,
     "metadata": {},
     "output_type": "execute_result"
    }
   ],
   "source": [
    "# Final network, includes first neighbors that go both ways [other prot <- disease prot and other prot -> disease prot]\n",
    "df.head(10)"
   ]
  },
  {
   "cell_type": "code",
   "execution_count": 11,
   "metadata": {},
   "outputs": [
    {
     "data": {
      "text/plain": [
       "(10584, 2)"
      ]
     },
     "execution_count": 11,
     "metadata": {},
     "output_type": "execute_result"
    }
   ],
   "source": [
    "df.shape"
   ]
  },
  {
   "cell_type": "code",
   "execution_count": 36,
   "metadata": {},
   "outputs": [],
   "source": [
    "df.to_csv(\"/Users/dafirebanks/Documents/Reduced_network.csv\")"
   ]
  },
  {
   "cell_type": "code",
   "execution_count": 12,
   "metadata": {},
   "outputs": [],
   "source": [
    "g = nx.from_pandas_edgelist(df, \"SwissProt1\", \"SwissProt2\")"
   ]
  },
  {
   "cell_type": "code",
   "execution_count": 13,
   "metadata": {},
   "outputs": [],
   "source": [
    "# Get basic centrality measures on a list\n",
    "clust_coef = nx.average_clustering(g)\n",
    "deg_centr = nx.degree_centrality(g)\n",
    "eigen_centr = nx.eigenvector_centrality(g)\n",
    "close_centr = nx.closeness_centrality(g)\n",
    "bet_centr = nx.betweenness_centrality(g)"
   ]
  },
  {
   "cell_type": "code",
   "execution_count": 14,
   "metadata": {},
   "outputs": [
    {
     "name": "stdout",
     "output_type": "stream",
     "text": [
      "1 731 0.000985494099146911 3.702501330494944\n"
     ]
    }
   ],
   "source": [
    "# Get normal statistics: Min degree, max degree, density\n",
    "n_degrees = [g.degree(n) for n in list(g.nodes())]\n",
    "avg_deg = sum(n_degrees)/len(n_degrees)\n",
    "min_degree = min(n_degrees)\n",
    "max_degree = max(n_degrees)\n",
    "density = nx.density(g)\n",
    "print(min_degree, max_degree, density, avg_deg)"
   ]
  },
  {
   "cell_type": "code",
   "execution_count": 15,
   "metadata": {},
   "outputs": [
    {
     "data": {
      "text/plain": [
       "(3758, 6957)"
      ]
     },
     "execution_count": 15,
     "metadata": {},
     "output_type": "execute_result"
    }
   ],
   "source": [
    "len(g.nodes()), len(g.edges())"
   ]
  },
  {
   "cell_type": "code",
   "execution_count": 16,
   "metadata": {},
   "outputs": [
    {
     "data": {
      "image/png": "[encoded data removed]",
      "text/plain": [
       "<Figure size 432x288 with 1 Axes>"
      ]
     },
     "metadata": {},
     "output_type": "display_data"
    }
   ],
   "source": [
    "# Degree distribution\n",
    "# plt.xscale(\"log\")\n",
    "_ = plt.hist(n_degrees, bins=80, log=True)"
   ]
  },
  {
   "cell_type": "code",
   "execution_count": 17,
   "metadata": {},
   "outputs": [],
   "source": [
    "# Sort all of them\n",
    "deg_sort = sorted(deg_centr.items(), key=lambda kv: kv[1], reverse=True)\n",
    "eigen_sort = sorted(eigen_centr.items(), key=lambda kv: kv[1], reverse=True)\n",
    "close_sort = sorted(close_centr.items(), key=lambda kv: kv[1], reverse=True)\n",
    "bet_sort = sorted(bet_centr.items(), key=lambda kv: kv[1], reverse=True)"
   ]
  },
  {
   "cell_type": "code",
   "execution_count": 18,
   "metadata": {},
   "outputs": [],
   "source": [
    "# Get the five highest of each\n",
    "deg_3 = deg_sort[:5]\n",
    "eigen_3 = eigen_sort[:5]\n",
    "close_3 = close_sort[:5]\n",
    "bet_3 = bet_sort[:5]"
   ]
  },
  {
   "cell_type": "code",
   "execution_count": 19,
   "metadata": {},
   "outputs": [
    {
     "name": "stdout",
     "output_type": "stream",
     "text": [
      "Clustering coefficient: 0.10832732338054178\n",
      "Degree centrality: [('P55072', 0.19457013574660634), ('Q5S007', 0.12509981368112857), ('Q9UGJ0', 0.11658237955815812), ('O60260', 0.1085972850678733), ('P35637', 0.10300771892467395)]\n",
      "Eigenvector centrality: [('P55072', 0.41714284355239795), ('O60260', 0.24449591048089625), ('P35637', 0.227438898019333), ('Q9UGJ0', 0.22572136395720166), ('Q5S007', 0.20969172032443625)]\n",
      "Closeness centrality: [('P0CG48', 0.4801891615541922), ('P55072', 0.4354427445526194), ('O60260', 0.4239449334236064), ('P11142', 0.4181878895814782), ('P35637', 0.41449691085613416)]\n",
      "Betweenness centrality: [('P55072', 0.2439436762010628), ('Q5S007', 0.13384961379948968), ('P42858', 0.13009929248596527), ('O60260', 0.11508999722414018), ('Q9UGJ0', 0.10608876696331074)]\n"
     ]
    }
   ],
   "source": [
    "print(f\"Clustering coefficient: {clust_coef}\")\n",
    "print(f\"Degree centrality: {deg_3}\")\n",
    "print(f\"Eigenvector centrality: {eigen_3}\")\n",
    "print(f\"Closeness centrality: {close_3}\")\n",
    "print(f\"Betweenness centrality: {bet_3}\")"
   ]
  },
  {
   "cell_type": "code",
   "execution_count": 39,
   "metadata": {},
   "outputs": [
    {
     "data": {
      "text/plain": [
       "731"
      ]
     },
     "execution_count": 39,
     "metadata": {},
     "output_type": "execute_result"
    }
   ],
   "source": [
    "g.degree(\"P55072\")"
   ]
  },
  {
   "cell_type": "code",
   "execution_count": 24,
   "metadata": {},
   "outputs": [
    {
     "data": {
      "image/png": "[encoded data removed]",
      "text/plain": [
       "<Figure size 432x288 with 1 Axes>"
      ]
     },
     "metadata": {},
     "output_type": "display_data"
    }
   ],
   "source": [
    "plt.title(\"Degree centrality\")\n",
    "_ = plt.hist(deg_centr.values(), bins=80, log=True)"
   ]
  },
  {
   "cell_type": "code",
   "execution_count": 30,
   "metadata": {},
   "outputs": [
    {
     "data": {
      "image/png": "[encoded data removed]",
      "text/plain": [
       "<Figure size 432x288 with 1 Axes>"
      ]
     },
     "metadata": {},
     "output_type": "display_data"
    }
   ],
   "source": [
    "plt.title(\"Closeness centrality distribution\")\n",
    "plt.xlabel(\"Number of proteins\")\n",
    "plt.ylabel(\"Centrality score\")\n",
    "_ = plt.hist(close_centr.values(), bins=100, log=True)"
   ]
  },
  {
   "cell_type": "code",
   "execution_count": 31,
   "metadata": {},
   "outputs": [
    {
     "data": {
      "image/png": "[encoded data removed]",
      "text/plain": [
       "<Figure size 432x288 with 1 Axes>"
      ]
     },
     "metadata": {},
     "output_type": "display_data"
    }
   ],
   "source": [
    "plt.title(\"Eigenvector centrality distribution\")\n",
    "plt.xlabel(\"Number of proteins\")\n",
    "plt.ylabel(\"Centrality score\")\n",
    "_ = plt.hist(eigen_centr.values(), bins=100, log=True)"
   ]
  },
  {
   "cell_type": "code",
   "execution_count": 34,
   "metadata": {},
   "outputs": [
    {
     "data": {
      "image/png": "[encoded data removed]",
      "text/plain": [
       "<Figure size 432x288 with 1 Axes>"
      ]
     },
     "metadata": {},
     "output_type": "display_data"
    }
   ],
   "source": [
    "plt.title(\"Betweeness centrality distribution\")\n",
    "plt.xlabel(\"Number of proteins\")\n",
    "plt.ylabel(\"Centrality score\")\n",
    "_ = plt.hist(bet_centr.values(), bins=50, log=True)"
   ]
  },
  {
   "cell_type": "code",
   "execution_count": 23,
   "metadata": {},
   "outputs": [],
   "source": [
    "all_cent = [deg_3, eigen_3, close_3, bet_3]"
   ]
  },
  {
   "cell_type": "code",
   "execution_count": null,
   "metadata": {},
   "outputs": [],
   "source": []
  },
  {
   "cell_type": "code",
   "execution_count": 22,
   "metadata": {},
   "outputs": [],
   "source": [
    "# Check which of the disease proteins are \n",
    "central_dprots = set()\n",
    "central_nprots = set()\n",
    "for cent in all_cent:\n",
    "    for (prot, score) in cent:\n",
    "        if prot in d_prots:\n",
    "#             print(prot)\n",
    "            central_dprots.add(prot)\n",
    "        else:\n",
    "            central_nprots.add(prot)"
   ]
  },
  {
   "cell_type": "code",
   "execution_count": 173,
   "metadata": {},
   "outputs": [
    {
     "data": {
      "text/plain": [
       "(6, 2)"
      ]
     },
     "execution_count": 173,
     "metadata": {},
     "output_type": "execute_result"
    }
   ],
   "source": [
    "len(central_dprots), len(central_nprots)"
   ]
  },
  {
   "cell_type": "code",
   "execution_count": 148,
   "metadata": {},
   "outputs": [
    {
     "data": {
      "text/plain": [
       "({'O60260', 'P35637', 'P42858', 'P55072', 'Q5S007', 'Q9UGJ0'}, {'P0CG48'})"
      ]
     },
     "execution_count": 148,
     "metadata": {},
     "output_type": "execute_result"
    }
   ],
   "source": [
    "central_dprots, central_nprots"
   ]
  },
  {
   "cell_type": "code",
   "execution_count": 142,
   "metadata": {},
   "outputs": [
    {
     "data": {
      "text/html": [
       "<div>\n",
       "<style scoped>\n",
       "    .dataframe tbody tr th:only-of-type {\n",
       "        vertical-align: middle;\n",
       "    }\n",
       "\n",
       "    .dataframe tbody tr th {\n",
       "        vertical-align: top;\n",
       "    }\n",
       "\n",
       "    .dataframe thead th {\n",
       "        text-align: right;\n",
       "    }\n",
       "</style>\n",
       "<table border=\"1\" class=\"dataframe\">\n",
       "  <thead>\n",
       "    <tr style=\"text-align: right;\">\n",
       "      <th></th>\n",
       "      <th>Disease Protein</th>\n",
       "      <th>Disease</th>\n",
       "      <th>Note</th>\n",
       "    </tr>\n",
       "  </thead>\n",
       "  <tbody>\n",
       "    <tr>\n",
       "      <th>3</th>\n",
       "      <td>P42858</td>\n",
       "      <td>HD</td>\n",
       "      <td>NaN</td>\n",
       "    </tr>\n",
       "    <tr>\n",
       "      <th>10</th>\n",
       "      <td>P55072</td>\n",
       "      <td>FTD</td>\n",
       "      <td>NaN</td>\n",
       "    </tr>\n",
       "    <tr>\n",
       "      <th>27</th>\n",
       "      <td>P35637</td>\n",
       "      <td>ALS</td>\n",
       "      <td>NaN</td>\n",
       "    </tr>\n",
       "    <tr>\n",
       "      <th>54</th>\n",
       "      <td>O60260</td>\n",
       "      <td>PD</td>\n",
       "      <td>NaN</td>\n",
       "    </tr>\n",
       "    <tr>\n",
       "      <th>55</th>\n",
       "      <td>Q9UGJ0</td>\n",
       "      <td>PD</td>\n",
       "      <td>have no interaction</td>\n",
       "    </tr>\n",
       "    <tr>\n",
       "      <th>62</th>\n",
       "      <td>Q5S007</td>\n",
       "      <td>PD</td>\n",
       "      <td>NaN</td>\n",
       "    </tr>\n",
       "  </tbody>\n",
       "</table>\n",
       "</div>"
      ],
      "text/plain": [
       "   Disease Protein Disease                 Note\n",
       "3           P42858      HD                  NaN\n",
       "10          P55072     FTD                  NaN\n",
       "27          P35637     ALS                  NaN\n",
       "54          O60260      PD                  NaN\n",
       "55          Q9UGJ0      PD  have no interaction\n",
       "62          Q5S007      PD                  NaN"
      ]
     },
     "execution_count": 142,
     "metadata": {},
     "output_type": "execute_result"
    }
   ],
   "source": [
    "# Get rows with central disease proteins from disease_proteions\n",
    "disease_proteins[disease_proteins[\"Disease Protein\"].isin(central_dprots)]"
   ]
  },
  {
   "cell_type": "code",
   "execution_count": 149,
   "metadata": {},
   "outputs": [
    {
     "data": {
      "text/plain": [
       "438"
      ]
     },
     "execution_count": 149,
     "metadata": {},
     "output_type": "execute_result"
    }
   ],
   "source": [
    "g.degree(\"Q9UGJ0\")"
   ]
  },
  {
   "cell_type": "code",
   "execution_count": 25,
   "metadata": {},
   "outputs": [],
   "source": [
    "indegree_map = {node:0 for node in g.nodes()}\n",
    "for source,target in g.edges():\n",
    "    indegree_map[target] += 1"
   ]
  },
  {
   "cell_type": "code",
   "execution_count": 120,
   "metadata": {},
   "outputs": [],
   "source": [
    "outdegree_map = {node:0 for node in g.nodes()}\n",
    "for source,target in g.edges():\n",
    "    outdegree_map[source] += 1"
   ]
  },
  {
   "cell_type": "code",
   "execution_count": 121,
   "metadata": {},
   "outputs": [
    {
     "data": {
      "image/png": "[encoded data removed]",
      "text/plain": [
       "<Figure size 432x288 with 1 Axes>"
      ]
     },
     "metadata": {},
     "output_type": "display_data"
    }
   ],
   "source": [
    "_ = plt.hist(outdegree_map.values(), bins=100, log=True)"
   ]
  },
  {
   "cell_type": "code",
   "execution_count": 52,
   "metadata": {},
   "outputs": [],
   "source": [
    "bro = 0\n",
    "count = 0 \n",
    "\n",
    "for element in second_neighbors[1]:\n",
    "    count += 1\n",
    "    print(element)\n",
    "    "
   ]
  },
  {
   "cell_type": "code",
   "execution_count": 118,
   "metadata": {},
   "outputs": [
    {
     "data": {
      "image/png": "[encoded data removed]",
      "text/plain": [
       "<Figure size 432x288 with 1 Axes>"
      ]
     },
     "metadata": {},
     "output_type": "display_data"
    }
   ],
   "source": [
    "_ = plt.hist(indegree_map.values(), bins=100, log=True)"
   ]
  }
 ],
 "metadata": {
  "kernelspec": {
   "display_name": "Python 3",
   "language": "python",
   "name": "python3"
  },
  "language_info": {
   "codemirror_mode": {
    "name": "ipython",
    "version": 3
   },
   "file_extension": ".py",
   "mimetype": "text/x-python",
   "name": "python",
   "nbconvert_exporter": "python",
   "pygments_lexer": "ipython3",
   "version": "3.6.8"
  }
 },
 "nbformat": 4,
 "nbformat_minor": 2
}
